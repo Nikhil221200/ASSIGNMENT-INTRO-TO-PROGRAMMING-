{
  "nbformat": 4,
  "nbformat_minor": 0,
  "metadata": {
    "colab": {
      "name": "script 2 ",
      "provenance": [],
      "authorship_tag": "ABX9TyNLZv11D8v7V3zCA3eyi9K/",
      "include_colab_link": true
    },
    "kernelspec": {
      "name": "python3",
      "display_name": "Python 3"
    },
    "language_info": {
      "name": "python"
    }
  },
  "cells": [
    {
      "cell_type": "markdown",
      "metadata": {
        "id": "view-in-github",
        "colab_type": "text"
      },
      "source": [
        "<a href=\"https://colab.research.google.com/github/Nikhil221200/ASSIGNMENT-INTRO-TO-PROGRAMMING-/blob/main/script_2.ipynb\" target=\"_parent\"><img src=\"https://colab.research.google.com/assets/colab-badge.svg\" alt=\"Open In Colab\"/></a>"
      ]
    },
    {
      "cell_type": "code",
      "execution_count": 19,
      "metadata": {
        "colab": {
          "base_uri": "https://localhost:8080/",
          "height": 130
        },
        "id": "8SCWw6mjFZYs",
        "outputId": "97649d59-5fda-4306-8dfc-b7009ec09187"
      },
      "outputs": [
        {
          "output_type": "error",
          "ename": "SyntaxError",
          "evalue": "ignored",
          "traceback": [
            "\u001b[0;36m  File \u001b[0;32m\"<ipython-input-19-5a98df3101c4>\"\u001b[0;36m, line \u001b[0;32m2\u001b[0m\n\u001b[0;31m    Count_sorted_by_day = data['Day'].value_counts().sort_index()\u001b[0m\n\u001b[0m                      ^\u001b[0m\n\u001b[0;31mSyntaxError\u001b[0m\u001b[0;31m:\u001b[0m invalid syntax\n"
          ]
        }
      ],
      "source": [
        "data['Day'] = pd.Categorical(data['Day'], categories= ['Mon','Tue','Wed','Thu','Fri','Sat','Sun'],ordered=True\n",
        "Count_sorted_by_day = data['Day'].value_counts().sort_index()\n",
        "\n",
        "plt.figure(1)\n",
        "Count_sorted_by_day.plot(marker ='o',color = 'blueviolet', linewidth = 2,ylim = [0,750])\n",
        "plt.title('Weekly Email Traffic', fontweight = 'bold',fontsize = 14)\n",
        "plt.ylabel(\"Received Email Count\", fontweight = 'bold' , labelpad = 15)\n",
        "plt.grid()\n",
        " \n"
      ]
    }
  ]
}